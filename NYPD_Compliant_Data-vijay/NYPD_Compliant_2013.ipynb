{
 "cells": [
  {
   "cell_type": "code",
   "execution_count": 1,
   "metadata": {},
   "outputs": [],
   "source": [
    "import pandas as pd\n",
    "# Data is from the following link\n",
    "# https://data.cityofnewyork.us/Public-Safety/NYPD-Complaint-Data-Historic/qgea-i56i"
   ]
  },
  {
   "cell_type": "code",
   "execution_count": 2,
   "metadata": {},
   "outputs": [
    {
     "name": "stderr",
     "output_type": "stream",
     "text": [
      "C:\\Users\\aarth\\Anaconda3\\lib\\site-packages\\IPython\\core\\interactiveshell.py:3057: DtypeWarning: Columns (18,20) have mixed types. Specify dtype option on import or set low_memory=False.\n",
      "  interactivity=interactivity, compiler=compiler, result=result)\n"
     ]
    }
   ],
   "source": [
    "df = pd.read_csv(\"NYPD_Complaint_Data_Historic_2013.csv\")"
   ]
  },
  {
   "cell_type": "code",
   "execution_count": 3,
   "metadata": {},
   "outputs": [
    {
     "data": {
      "text/plain": [
       "CMPLNT_NUM             int64\n",
       "CMPLNT_FR_DT          object\n",
       "CMPLNT_FR_TM          object\n",
       "CMPLNT_TO_DT          object\n",
       "CMPLNT_TO_TM          object\n",
       "ADDR_PCT_CD          float64\n",
       "RPT_DT                object\n",
       "KY_CD                  int64\n",
       "OFNS_DESC             object\n",
       "PD_CD                float64\n",
       "PD_DESC               object\n",
       "CRM_ATPT_CPTD_CD      object\n",
       "LAW_CAT_CD            object\n",
       "BORO_NM               object\n",
       "LOC_OF_OCCUR_DESC     object\n",
       "PREM_TYP_DESC         object\n",
       "JURIS_DESC            object\n",
       "JURISDICTION_CODE    float64\n",
       "PARKS_NM              object\n",
       "HADEVELOPT            object\n",
       "HOUSING_PSA           object\n",
       "X_COORD_CD            object\n",
       "Y_COORD_CD            object\n",
       "SUSP_AGE_GROUP        object\n",
       "SUSP_RACE             object\n",
       "SUSP_SEX              object\n",
       "TRANSIT_DISTRICT     float64\n",
       "Latitude             float64\n",
       "Longitude            float64\n",
       "Lat_Lon               object\n",
       "PATROL_BORO           object\n",
       "STATION_NAME          object\n",
       "VIC_AGE_GROUP         object\n",
       "VIC_RACE              object\n",
       "VIC_SEX               object\n",
       "dtype: object"
      ]
     },
     "execution_count": 3,
     "metadata": {},
     "output_type": "execute_result"
    }
   ],
   "source": [
    "df.dtypes"
   ]
  },
  {
   "cell_type": "code",
   "execution_count": 4,
   "metadata": {},
   "outputs": [],
   "source": [
    "#Removing complaint from & to dates, from & to columns as they are not required, there \n",
    "#is report_date and it will be retained.\n",
    "df = df.drop(['CMPLNT_FR_DT','CMPLNT_FR_TM','CMPLNT_TO_DT','CMPLNT_TO_TM'],axis=1)"
   ]
  },
  {
   "cell_type": "code",
   "execution_count": 5,
   "metadata": {},
   "outputs": [],
   "source": [
    "df = df.drop(['LOC_OF_OCCUR_DESC','PREM_TYP_DESC','JURIS_DESC','JURISDICTION_CODE'],axis=1)"
   ]
  },
  {
   "cell_type": "code",
   "execution_count": 6,
   "metadata": {},
   "outputs": [],
   "source": [
    "df = df.drop(['PARKS_NM','HADEVELOPT','HOUSING_PSA','X_COORD_CD','Y_COORD_CD'],axis=1)"
   ]
  },
  {
   "cell_type": "code",
   "execution_count": 7,
   "metadata": {},
   "outputs": [],
   "source": [
    "df = df.drop(['SUSP_AGE_GROUP','SUSP_RACE','SUSP_SEX','TRANSIT_DISTRICT',\\\n",
    "             'Lat_Lon','STATION_NAME','VIC_AGE_GROUP','VIC_RACE','VIC_SEX'],axis=1)"
   ]
  },
  {
   "cell_type": "code",
   "execution_count": 8,
   "metadata": {},
   "outputs": [
    {
     "data": {
      "text/plain": [
       "CMPLNT_NUM            int64\n",
       "ADDR_PCT_CD         float64\n",
       "RPT_DT               object\n",
       "KY_CD                 int64\n",
       "OFNS_DESC            object\n",
       "PD_CD               float64\n",
       "PD_DESC              object\n",
       "CRM_ATPT_CPTD_CD     object\n",
       "LAW_CAT_CD           object\n",
       "BORO_NM              object\n",
       "Latitude            float64\n",
       "Longitude           float64\n",
       "PATROL_BORO          object\n",
       "dtype: object"
      ]
     },
     "execution_count": 8,
     "metadata": {},
     "output_type": "execute_result"
    }
   ],
   "source": [
    "df.dtypes"
   ]
  },
  {
   "cell_type": "code",
   "execution_count": 9,
   "metadata": {},
   "outputs": [
    {
     "data": {
      "text/html": [
       "<div>\n",
       "<style scoped>\n",
       "    .dataframe tbody tr th:only-of-type {\n",
       "        vertical-align: middle;\n",
       "    }\n",
       "\n",
       "    .dataframe tbody tr th {\n",
       "        vertical-align: top;\n",
       "    }\n",
       "\n",
       "    .dataframe thead th {\n",
       "        text-align: right;\n",
       "    }\n",
       "</style>\n",
       "<table border=\"1\" class=\"dataframe\">\n",
       "  <thead>\n",
       "    <tr style=\"text-align: right;\">\n",
       "      <th></th>\n",
       "      <th>CMPLNT_NUM</th>\n",
       "      <th>ADDR_PCT_CD</th>\n",
       "      <th>RPT_DT</th>\n",
       "      <th>KY_CD</th>\n",
       "      <th>OFNS_DESC</th>\n",
       "      <th>PD_CD</th>\n",
       "      <th>PD_DESC</th>\n",
       "      <th>CRM_ATPT_CPTD_CD</th>\n",
       "      <th>LAW_CAT_CD</th>\n",
       "      <th>BORO_NM</th>\n",
       "      <th>Latitude</th>\n",
       "      <th>Longitude</th>\n",
       "      <th>PATROL_BORO</th>\n",
       "    </tr>\n",
       "  </thead>\n",
       "  <tbody>\n",
       "    <tr>\n",
       "      <th>0</th>\n",
       "      <td>785119974</td>\n",
       "      <td>18.0</td>\n",
       "      <td>04/12/2013</td>\n",
       "      <td>235</td>\n",
       "      <td>DANGEROUS DRUGS</td>\n",
       "      <td>567.0</td>\n",
       "      <td>MARIJUANA, POSSESSION 4 &amp; 5</td>\n",
       "      <td>COMPLETED</td>\n",
       "      <td>MISDEMEANOR</td>\n",
       "      <td>MANHATTAN</td>\n",
       "      <td>40.757989</td>\n",
       "      <td>-73.983654</td>\n",
       "      <td>PATROL BORO MAN SOUTH</td>\n",
       "    </tr>\n",
       "    <tr>\n",
       "      <th>1</th>\n",
       "      <td>425353359</td>\n",
       "      <td>69.0</td>\n",
       "      <td>09/17/2013</td>\n",
       "      <td>101</td>\n",
       "      <td>MURDER &amp; NON-NEGL. MANSLAUGHTER</td>\n",
       "      <td>NaN</td>\n",
       "      <td>NaN</td>\n",
       "      <td>COMPLETED</td>\n",
       "      <td>FELONY</td>\n",
       "      <td>NaN</td>\n",
       "      <td>40.638982</td>\n",
       "      <td>-73.892663</td>\n",
       "      <td>NaN</td>\n",
       "    </tr>\n",
       "    <tr>\n",
       "      <th>2</th>\n",
       "      <td>362742281</td>\n",
       "      <td>41.0</td>\n",
       "      <td>06/14/2013</td>\n",
       "      <td>233</td>\n",
       "      <td>SEX CRIMES</td>\n",
       "      <td>681.0</td>\n",
       "      <td>CHILD, ENDANGERING WELFARE</td>\n",
       "      <td>COMPLETED</td>\n",
       "      <td>MISDEMEANOR</td>\n",
       "      <td>BRONX</td>\n",
       "      <td>40.816392</td>\n",
       "      <td>-73.895296</td>\n",
       "      <td>PATROL BORO BRONX</td>\n",
       "    </tr>\n",
       "    <tr>\n",
       "      <th>3</th>\n",
       "      <td>159041815</td>\n",
       "      <td>44.0</td>\n",
       "      <td>02/07/2013</td>\n",
       "      <td>359</td>\n",
       "      <td>OFFENSES AGAINST PUBLIC ADMINI</td>\n",
       "      <td>750.0</td>\n",
       "      <td>RESISTING ARREST</td>\n",
       "      <td>COMPLETED</td>\n",
       "      <td>MISDEMEANOR</td>\n",
       "      <td>BRONX</td>\n",
       "      <td>40.791152</td>\n",
       "      <td>-73.884372</td>\n",
       "      <td>PATROL BORO BRONX</td>\n",
       "    </tr>\n",
       "    <tr>\n",
       "      <th>4</th>\n",
       "      <td>844130903</td>\n",
       "      <td>13.0</td>\n",
       "      <td>09/11/2013</td>\n",
       "      <td>341</td>\n",
       "      <td>PETIT LARCENY</td>\n",
       "      <td>343.0</td>\n",
       "      <td>LARCENY,PETIT OF BICYCLE</td>\n",
       "      <td>COMPLETED</td>\n",
       "      <td>MISDEMEANOR</td>\n",
       "      <td>MANHATTAN</td>\n",
       "      <td>40.736698</td>\n",
       "      <td>-73.983316</td>\n",
       "      <td>PATROL BORO MAN SOUTH</td>\n",
       "    </tr>\n",
       "  </tbody>\n",
       "</table>\n",
       "</div>"
      ],
      "text/plain": [
       "   CMPLNT_NUM  ADDR_PCT_CD      RPT_DT  KY_CD  \\\n",
       "0   785119974         18.0  04/12/2013    235   \n",
       "1   425353359         69.0  09/17/2013    101   \n",
       "2   362742281         41.0  06/14/2013    233   \n",
       "3   159041815         44.0  02/07/2013    359   \n",
       "4   844130903         13.0  09/11/2013    341   \n",
       "\n",
       "                         OFNS_DESC  PD_CD                      PD_DESC  \\\n",
       "0                  DANGEROUS DRUGS  567.0  MARIJUANA, POSSESSION 4 & 5   \n",
       "1  MURDER & NON-NEGL. MANSLAUGHTER    NaN                          NaN   \n",
       "2                       SEX CRIMES  681.0   CHILD, ENDANGERING WELFARE   \n",
       "3   OFFENSES AGAINST PUBLIC ADMINI  750.0             RESISTING ARREST   \n",
       "4                    PETIT LARCENY  343.0     LARCENY,PETIT OF BICYCLE   \n",
       "\n",
       "  CRM_ATPT_CPTD_CD   LAW_CAT_CD    BORO_NM   Latitude  Longitude  \\\n",
       "0        COMPLETED  MISDEMEANOR  MANHATTAN  40.757989 -73.983654   \n",
       "1        COMPLETED       FELONY        NaN  40.638982 -73.892663   \n",
       "2        COMPLETED  MISDEMEANOR      BRONX  40.816392 -73.895296   \n",
       "3        COMPLETED  MISDEMEANOR      BRONX  40.791152 -73.884372   \n",
       "4        COMPLETED  MISDEMEANOR  MANHATTAN  40.736698 -73.983316   \n",
       "\n",
       "             PATROL_BORO  \n",
       "0  PATROL BORO MAN SOUTH  \n",
       "1                    NaN  \n",
       "2      PATROL BORO BRONX  \n",
       "3      PATROL BORO BRONX  \n",
       "4  PATROL BORO MAN SOUTH  "
      ]
     },
     "execution_count": 9,
     "metadata": {},
     "output_type": "execute_result"
    }
   ],
   "source": [
    "df.head()"
   ]
  },
  {
   "cell_type": "code",
   "execution_count": 10,
   "metadata": {},
   "outputs": [],
   "source": [
    "df = df.dropna()"
   ]
  },
  {
   "cell_type": "code",
   "execution_count": 11,
   "metadata": {},
   "outputs": [],
   "source": [
    "df['RPT_DT_TIME'] = pd.to_datetime(df['RPT_DT'])"
   ]
  },
  {
   "cell_type": "code",
   "execution_count": 12,
   "metadata": {},
   "outputs": [],
   "source": [
    "df['RPT_YEAR'] = df['RPT_DT_TIME'].dt.year"
   ]
  },
  {
   "cell_type": "code",
   "execution_count": 13,
   "metadata": {},
   "outputs": [],
   "source": [
    "df = df.drop(['RPT_DT_TIME'],axis=1)"
   ]
  },
  {
   "cell_type": "code",
   "execution_count": 14,
   "metadata": {},
   "outputs": [
    {
     "data": {
      "text/html": [
       "<div>\n",
       "<style scoped>\n",
       "    .dataframe tbody tr th:only-of-type {\n",
       "        vertical-align: middle;\n",
       "    }\n",
       "\n",
       "    .dataframe tbody tr th {\n",
       "        vertical-align: top;\n",
       "    }\n",
       "\n",
       "    .dataframe thead th {\n",
       "        text-align: right;\n",
       "    }\n",
       "</style>\n",
       "<table border=\"1\" class=\"dataframe\">\n",
       "  <thead>\n",
       "    <tr style=\"text-align: right;\">\n",
       "      <th></th>\n",
       "      <th>CMPLNT_NUM</th>\n",
       "      <th>ADDR_PCT_CD</th>\n",
       "      <th>RPT_DT</th>\n",
       "      <th>KY_CD</th>\n",
       "      <th>OFNS_DESC</th>\n",
       "      <th>PD_CD</th>\n",
       "      <th>PD_DESC</th>\n",
       "      <th>CRM_ATPT_CPTD_CD</th>\n",
       "      <th>LAW_CAT_CD</th>\n",
       "      <th>BORO_NM</th>\n",
       "      <th>Latitude</th>\n",
       "      <th>Longitude</th>\n",
       "      <th>PATROL_BORO</th>\n",
       "      <th>RPT_YEAR</th>\n",
       "    </tr>\n",
       "  </thead>\n",
       "  <tbody>\n",
       "    <tr>\n",
       "      <th>0</th>\n",
       "      <td>785119974</td>\n",
       "      <td>18.0</td>\n",
       "      <td>04/12/2013</td>\n",
       "      <td>235</td>\n",
       "      <td>DANGEROUS DRUGS</td>\n",
       "      <td>567.0</td>\n",
       "      <td>MARIJUANA, POSSESSION 4 &amp; 5</td>\n",
       "      <td>COMPLETED</td>\n",
       "      <td>MISDEMEANOR</td>\n",
       "      <td>MANHATTAN</td>\n",
       "      <td>40.757989</td>\n",
       "      <td>-73.983654</td>\n",
       "      <td>PATROL BORO MAN SOUTH</td>\n",
       "      <td>2013</td>\n",
       "    </tr>\n",
       "    <tr>\n",
       "      <th>2</th>\n",
       "      <td>362742281</td>\n",
       "      <td>41.0</td>\n",
       "      <td>06/14/2013</td>\n",
       "      <td>233</td>\n",
       "      <td>SEX CRIMES</td>\n",
       "      <td>681.0</td>\n",
       "      <td>CHILD, ENDANGERING WELFARE</td>\n",
       "      <td>COMPLETED</td>\n",
       "      <td>MISDEMEANOR</td>\n",
       "      <td>BRONX</td>\n",
       "      <td>40.816392</td>\n",
       "      <td>-73.895296</td>\n",
       "      <td>PATROL BORO BRONX</td>\n",
       "      <td>2013</td>\n",
       "    </tr>\n",
       "    <tr>\n",
       "      <th>3</th>\n",
       "      <td>159041815</td>\n",
       "      <td>44.0</td>\n",
       "      <td>02/07/2013</td>\n",
       "      <td>359</td>\n",
       "      <td>OFFENSES AGAINST PUBLIC ADMINI</td>\n",
       "      <td>750.0</td>\n",
       "      <td>RESISTING ARREST</td>\n",
       "      <td>COMPLETED</td>\n",
       "      <td>MISDEMEANOR</td>\n",
       "      <td>BRONX</td>\n",
       "      <td>40.791152</td>\n",
       "      <td>-73.884372</td>\n",
       "      <td>PATROL BORO BRONX</td>\n",
       "      <td>2013</td>\n",
       "    </tr>\n",
       "    <tr>\n",
       "      <th>4</th>\n",
       "      <td>844130903</td>\n",
       "      <td>13.0</td>\n",
       "      <td>09/11/2013</td>\n",
       "      <td>341</td>\n",
       "      <td>PETIT LARCENY</td>\n",
       "      <td>343.0</td>\n",
       "      <td>LARCENY,PETIT OF BICYCLE</td>\n",
       "      <td>COMPLETED</td>\n",
       "      <td>MISDEMEANOR</td>\n",
       "      <td>MANHATTAN</td>\n",
       "      <td>40.736698</td>\n",
       "      <td>-73.983316</td>\n",
       "      <td>PATROL BORO MAN SOUTH</td>\n",
       "      <td>2013</td>\n",
       "    </tr>\n",
       "    <tr>\n",
       "      <th>5</th>\n",
       "      <td>897845922</td>\n",
       "      <td>44.0</td>\n",
       "      <td>07/07/2013</td>\n",
       "      <td>106</td>\n",
       "      <td>FELONY ASSAULT</td>\n",
       "      <td>105.0</td>\n",
       "      <td>STRANGULATION 1ST</td>\n",
       "      <td>COMPLETED</td>\n",
       "      <td>FELONY</td>\n",
       "      <td>BRONX</td>\n",
       "      <td>40.832033</td>\n",
       "      <td>-73.925901</td>\n",
       "      <td>PATROL BORO BRONX</td>\n",
       "      <td>2013</td>\n",
       "    </tr>\n",
       "  </tbody>\n",
       "</table>\n",
       "</div>"
      ],
      "text/plain": [
       "   CMPLNT_NUM  ADDR_PCT_CD      RPT_DT  KY_CD                       OFNS_DESC  \\\n",
       "0   785119974         18.0  04/12/2013    235                 DANGEROUS DRUGS   \n",
       "2   362742281         41.0  06/14/2013    233                      SEX CRIMES   \n",
       "3   159041815         44.0  02/07/2013    359  OFFENSES AGAINST PUBLIC ADMINI   \n",
       "4   844130903         13.0  09/11/2013    341                   PETIT LARCENY   \n",
       "5   897845922         44.0  07/07/2013    106                  FELONY ASSAULT   \n",
       "\n",
       "   PD_CD                      PD_DESC CRM_ATPT_CPTD_CD   LAW_CAT_CD  \\\n",
       "0  567.0  MARIJUANA, POSSESSION 4 & 5        COMPLETED  MISDEMEANOR   \n",
       "2  681.0   CHILD, ENDANGERING WELFARE        COMPLETED  MISDEMEANOR   \n",
       "3  750.0             RESISTING ARREST        COMPLETED  MISDEMEANOR   \n",
       "4  343.0     LARCENY,PETIT OF BICYCLE        COMPLETED  MISDEMEANOR   \n",
       "5  105.0            STRANGULATION 1ST        COMPLETED       FELONY   \n",
       "\n",
       "     BORO_NM   Latitude  Longitude            PATROL_BORO  RPT_YEAR  \n",
       "0  MANHATTAN  40.757989 -73.983654  PATROL BORO MAN SOUTH      2013  \n",
       "2      BRONX  40.816392 -73.895296      PATROL BORO BRONX      2013  \n",
       "3      BRONX  40.791152 -73.884372      PATROL BORO BRONX      2013  \n",
       "4  MANHATTAN  40.736698 -73.983316  PATROL BORO MAN SOUTH      2013  \n",
       "5      BRONX  40.832033 -73.925901      PATROL BORO BRONX      2013  "
      ]
     },
     "execution_count": 14,
     "metadata": {},
     "output_type": "execute_result"
    }
   ],
   "source": [
    "df.head()"
   ]
  },
  {
   "cell_type": "code",
   "execution_count": 15,
   "metadata": {},
   "outputs": [],
   "source": [
    "df.to_csv('./Output/NYPD_Complaint_Data_2013.csv',index=False)"
   ]
  },
  {
   "cell_type": "code",
   "execution_count": null,
   "metadata": {},
   "outputs": [],
   "source": []
  }
 ],
 "metadata": {
  "kernelspec": {
   "display_name": "Python 3",
   "language": "python",
   "name": "python3"
  },
  "language_info": {
   "codemirror_mode": {
    "name": "ipython",
    "version": 3
   },
   "file_extension": ".py",
   "mimetype": "text/x-python",
   "name": "python",
   "nbconvert_exporter": "python",
   "pygments_lexer": "ipython3",
   "version": "3.7.3"
  }
 },
 "nbformat": 4,
 "nbformat_minor": 2
}
