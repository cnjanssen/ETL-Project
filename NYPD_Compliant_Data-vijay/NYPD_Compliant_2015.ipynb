{
 "cells": [
  {
   "cell_type": "code",
   "execution_count": 1,
   "metadata": {},
   "outputs": [],
   "source": [
    "import pandas as pd\n",
    "# Data is from the following link\n",
    "# https://data.cityofnewyork.us/Public-Safety/NYPD-Complaint-Data-Historic/qgea-i56i"
   ]
  },
  {
   "cell_type": "code",
   "execution_count": 2,
   "metadata": {},
   "outputs": [
    {
     "name": "stderr",
     "output_type": "stream",
     "text": [
      "C:\\Users\\aarth\\Anaconda3\\lib\\site-packages\\IPython\\core\\interactiveshell.py:3057: DtypeWarning: Columns (20) have mixed types. Specify dtype option on import or set low_memory=False.\n",
      "  interactivity=interactivity, compiler=compiler, result=result)\n"
     ]
    }
   ],
   "source": [
    "df = pd.read_csv(\"NYPD_Complaint_Data_Historic_2015.csv\")"
   ]
  },
  {
   "cell_type": "code",
   "execution_count": 3,
   "metadata": {},
   "outputs": [
    {
     "data": {
      "text/plain": [
       "CMPLNT_NUM             int64\n",
       "CMPLNT_FR_DT          object\n",
       "CMPLNT_FR_TM          object\n",
       "CMPLNT_TO_DT          object\n",
       "CMPLNT_TO_TM          object\n",
       "ADDR_PCT_CD          float64\n",
       "RPT_DT                object\n",
       "KY_CD                  int64\n",
       "OFNS_DESC             object\n",
       "PD_CD                float64\n",
       "PD_DESC               object\n",
       "CRM_ATPT_CPTD_CD      object\n",
       "LAW_CAT_CD            object\n",
       "BORO_NM               object\n",
       "LOC_OF_OCCUR_DESC     object\n",
       "PREM_TYP_DESC         object\n",
       "JURIS_DESC            object\n",
       "JURISDICTION_CODE    float64\n",
       "PARKS_NM              object\n",
       "HADEVELOPT            object\n",
       "HOUSING_PSA           object\n",
       "X_COORD_CD            object\n",
       "Y_COORD_CD            object\n",
       "SUSP_AGE_GROUP        object\n",
       "SUSP_RACE             object\n",
       "SUSP_SEX              object\n",
       "TRANSIT_DISTRICT     float64\n",
       "Latitude             float64\n",
       "Longitude            float64\n",
       "Lat_Lon               object\n",
       "PATROL_BORO           object\n",
       "STATION_NAME          object\n",
       "VIC_AGE_GROUP         object\n",
       "VIC_RACE              object\n",
       "VIC_SEX               object\n",
       "dtype: object"
      ]
     },
     "execution_count": 3,
     "metadata": {},
     "output_type": "execute_result"
    }
   ],
   "source": [
    "df.dtypes"
   ]
  },
  {
   "cell_type": "code",
   "execution_count": 4,
   "metadata": {},
   "outputs": [],
   "source": [
    "#Removing complaint from & to dates, from & to columns as they are not required, there \n",
    "#is report_date and it will be retained.\n",
    "df = df.drop(['CMPLNT_FR_DT','CMPLNT_FR_TM','CMPLNT_TO_DT','CMPLNT_TO_TM'],axis=1)"
   ]
  },
  {
   "cell_type": "code",
   "execution_count": 5,
   "metadata": {},
   "outputs": [],
   "source": [
    "df = df.drop(['LOC_OF_OCCUR_DESC','PREM_TYP_DESC','JURIS_DESC','JURISDICTION_CODE'],axis=1)"
   ]
  },
  {
   "cell_type": "code",
   "execution_count": 6,
   "metadata": {},
   "outputs": [],
   "source": [
    "df = df.drop(['PARKS_NM','HADEVELOPT','HOUSING_PSA','X_COORD_CD','Y_COORD_CD'],axis=1)"
   ]
  },
  {
   "cell_type": "code",
   "execution_count": 7,
   "metadata": {},
   "outputs": [],
   "source": [
    "df = df.drop(['SUSP_AGE_GROUP','SUSP_RACE','SUSP_SEX','TRANSIT_DISTRICT',\\\n",
    "             'Lat_Lon','STATION_NAME','VIC_AGE_GROUP','VIC_RACE','VIC_SEX'],axis=1)"
   ]
  },
  {
   "cell_type": "code",
   "execution_count": 8,
   "metadata": {},
   "outputs": [
    {
     "data": {
      "text/plain": [
       "CMPLNT_NUM            int64\n",
       "ADDR_PCT_CD         float64\n",
       "RPT_DT               object\n",
       "KY_CD                 int64\n",
       "OFNS_DESC            object\n",
       "PD_CD               float64\n",
       "PD_DESC              object\n",
       "CRM_ATPT_CPTD_CD     object\n",
       "LAW_CAT_CD           object\n",
       "BORO_NM              object\n",
       "Latitude            float64\n",
       "Longitude           float64\n",
       "PATROL_BORO          object\n",
       "dtype: object"
      ]
     },
     "execution_count": 8,
     "metadata": {},
     "output_type": "execute_result"
    }
   ],
   "source": [
    "df.dtypes"
   ]
  },
  {
   "cell_type": "code",
   "execution_count": 9,
   "metadata": {},
   "outputs": [
    {
     "data": {
      "text/html": [
       "<div>\n",
       "<style scoped>\n",
       "    .dataframe tbody tr th:only-of-type {\n",
       "        vertical-align: middle;\n",
       "    }\n",
       "\n",
       "    .dataframe tbody tr th {\n",
       "        vertical-align: top;\n",
       "    }\n",
       "\n",
       "    .dataframe thead th {\n",
       "        text-align: right;\n",
       "    }\n",
       "</style>\n",
       "<table border=\"1\" class=\"dataframe\">\n",
       "  <thead>\n",
       "    <tr style=\"text-align: right;\">\n",
       "      <th></th>\n",
       "      <th>CMPLNT_NUM</th>\n",
       "      <th>ADDR_PCT_CD</th>\n",
       "      <th>RPT_DT</th>\n",
       "      <th>KY_CD</th>\n",
       "      <th>OFNS_DESC</th>\n",
       "      <th>PD_CD</th>\n",
       "      <th>PD_DESC</th>\n",
       "      <th>CRM_ATPT_CPTD_CD</th>\n",
       "      <th>LAW_CAT_CD</th>\n",
       "      <th>BORO_NM</th>\n",
       "      <th>Latitude</th>\n",
       "      <th>Longitude</th>\n",
       "      <th>PATROL_BORO</th>\n",
       "    </tr>\n",
       "  </thead>\n",
       "  <tbody>\n",
       "    <tr>\n",
       "      <th>0</th>\n",
       "      <td>111222720</td>\n",
       "      <td>44.0</td>\n",
       "      <td>06/11/2015</td>\n",
       "      <td>341</td>\n",
       "      <td>PETIT LARCENY</td>\n",
       "      <td>338.0</td>\n",
       "      <td>LARCENY,PETIT FROM BUILDING,UN</td>\n",
       "      <td>COMPLETED</td>\n",
       "      <td>MISDEMEANOR</td>\n",
       "      <td>BRONX</td>\n",
       "      <td>40.830128</td>\n",
       "      <td>-73.914423</td>\n",
       "      <td>PATROL BORO BRONX</td>\n",
       "    </tr>\n",
       "    <tr>\n",
       "      <th>1</th>\n",
       "      <td>292167760</td>\n",
       "      <td>44.0</td>\n",
       "      <td>09/03/2015</td>\n",
       "      <td>235</td>\n",
       "      <td>DANGEROUS DRUGS</td>\n",
       "      <td>567.0</td>\n",
       "      <td>MARIJUANA, POSSESSION 4 &amp; 5</td>\n",
       "      <td>COMPLETED</td>\n",
       "      <td>MISDEMEANOR</td>\n",
       "      <td>BRONX</td>\n",
       "      <td>40.833925</td>\n",
       "      <td>-73.927008</td>\n",
       "      <td>PATROL BORO BRONX</td>\n",
       "    </tr>\n",
       "    <tr>\n",
       "      <th>2</th>\n",
       "      <td>487791415</td>\n",
       "      <td>113.0</td>\n",
       "      <td>04/27/2015</td>\n",
       "      <td>126</td>\n",
       "      <td>MISCELLANEOUS PENAL LAW</td>\n",
       "      <td>198.0</td>\n",
       "      <td>CRIMINAL CONTEMPT 1</td>\n",
       "      <td>COMPLETED</td>\n",
       "      <td>FELONY</td>\n",
       "      <td>QUEENS</td>\n",
       "      <td>40.681686</td>\n",
       "      <td>-73.771141</td>\n",
       "      <td>PATROL BORO QUEENS SOUTH</td>\n",
       "    </tr>\n",
       "    <tr>\n",
       "      <th>3</th>\n",
       "      <td>972622745</td>\n",
       "      <td>70.0</td>\n",
       "      <td>08/17/2015</td>\n",
       "      <td>361</td>\n",
       "      <td>OFF. AGNST PUB ORD SENSBLTY &amp;</td>\n",
       "      <td>639.0</td>\n",
       "      <td>AGGRAVATED HARASSMENT 2</td>\n",
       "      <td>COMPLETED</td>\n",
       "      <td>MISDEMEANOR</td>\n",
       "      <td>BROOKLYN</td>\n",
       "      <td>40.640855</td>\n",
       "      <td>-73.958207</td>\n",
       "      <td>PATROL BORO BKLYN SOUTH</td>\n",
       "    </tr>\n",
       "    <tr>\n",
       "      <th>4</th>\n",
       "      <td>456922243</td>\n",
       "      <td>7.0</td>\n",
       "      <td>04/24/2015</td>\n",
       "      <td>351</td>\n",
       "      <td>CRIMINAL MISCHIEF &amp; RELATED OF</td>\n",
       "      <td>258.0</td>\n",
       "      <td>CRIMINAL MISCHIEF 4TH, GRAFFIT</td>\n",
       "      <td>COMPLETED</td>\n",
       "      <td>MISDEMEANOR</td>\n",
       "      <td>MANHATTAN</td>\n",
       "      <td>40.715288</td>\n",
       "      <td>-73.976471</td>\n",
       "      <td>PATROL BORO MAN SOUTH</td>\n",
       "    </tr>\n",
       "  </tbody>\n",
       "</table>\n",
       "</div>"
      ],
      "text/plain": [
       "   CMPLNT_NUM  ADDR_PCT_CD      RPT_DT  KY_CD                       OFNS_DESC  \\\n",
       "0   111222720         44.0  06/11/2015    341                   PETIT LARCENY   \n",
       "1   292167760         44.0  09/03/2015    235                 DANGEROUS DRUGS   \n",
       "2   487791415        113.0  04/27/2015    126         MISCELLANEOUS PENAL LAW   \n",
       "3   972622745         70.0  08/17/2015    361   OFF. AGNST PUB ORD SENSBLTY &   \n",
       "4   456922243          7.0  04/24/2015    351  CRIMINAL MISCHIEF & RELATED OF   \n",
       "\n",
       "   PD_CD                         PD_DESC CRM_ATPT_CPTD_CD   LAW_CAT_CD  \\\n",
       "0  338.0  LARCENY,PETIT FROM BUILDING,UN        COMPLETED  MISDEMEANOR   \n",
       "1  567.0     MARIJUANA, POSSESSION 4 & 5        COMPLETED  MISDEMEANOR   \n",
       "2  198.0             CRIMINAL CONTEMPT 1        COMPLETED       FELONY   \n",
       "3  639.0         AGGRAVATED HARASSMENT 2        COMPLETED  MISDEMEANOR   \n",
       "4  258.0  CRIMINAL MISCHIEF 4TH, GRAFFIT        COMPLETED  MISDEMEANOR   \n",
       "\n",
       "     BORO_NM   Latitude  Longitude               PATROL_BORO  \n",
       "0      BRONX  40.830128 -73.914423         PATROL BORO BRONX  \n",
       "1      BRONX  40.833925 -73.927008         PATROL BORO BRONX  \n",
       "2     QUEENS  40.681686 -73.771141  PATROL BORO QUEENS SOUTH  \n",
       "3   BROOKLYN  40.640855 -73.958207   PATROL BORO BKLYN SOUTH  \n",
       "4  MANHATTAN  40.715288 -73.976471     PATROL BORO MAN SOUTH  "
      ]
     },
     "execution_count": 9,
     "metadata": {},
     "output_type": "execute_result"
    }
   ],
   "source": [
    "df.head()"
   ]
  },
  {
   "cell_type": "code",
   "execution_count": 10,
   "metadata": {},
   "outputs": [],
   "source": [
    "df = df.dropna()"
   ]
  },
  {
   "cell_type": "code",
   "execution_count": 11,
   "metadata": {},
   "outputs": [],
   "source": [
    "df['RPT_DT_TIME'] = pd.to_datetime(df['RPT_DT'])"
   ]
  },
  {
   "cell_type": "code",
   "execution_count": 12,
   "metadata": {},
   "outputs": [],
   "source": [
    "df['RPT_YEAR'] = df['RPT_DT_TIME'].dt.year"
   ]
  },
  {
   "cell_type": "code",
   "execution_count": 13,
   "metadata": {},
   "outputs": [],
   "source": [
    "df = df.drop(['RPT_DT_TIME'],axis=1)"
   ]
  },
  {
   "cell_type": "code",
   "execution_count": 14,
   "metadata": {},
   "outputs": [
    {
     "data": {
      "text/html": [
       "<div>\n",
       "<style scoped>\n",
       "    .dataframe tbody tr th:only-of-type {\n",
       "        vertical-align: middle;\n",
       "    }\n",
       "\n",
       "    .dataframe tbody tr th {\n",
       "        vertical-align: top;\n",
       "    }\n",
       "\n",
       "    .dataframe thead th {\n",
       "        text-align: right;\n",
       "    }\n",
       "</style>\n",
       "<table border=\"1\" class=\"dataframe\">\n",
       "  <thead>\n",
       "    <tr style=\"text-align: right;\">\n",
       "      <th></th>\n",
       "      <th>CMPLNT_NUM</th>\n",
       "      <th>ADDR_PCT_CD</th>\n",
       "      <th>RPT_DT</th>\n",
       "      <th>KY_CD</th>\n",
       "      <th>OFNS_DESC</th>\n",
       "      <th>PD_CD</th>\n",
       "      <th>PD_DESC</th>\n",
       "      <th>CRM_ATPT_CPTD_CD</th>\n",
       "      <th>LAW_CAT_CD</th>\n",
       "      <th>BORO_NM</th>\n",
       "      <th>Latitude</th>\n",
       "      <th>Longitude</th>\n",
       "      <th>PATROL_BORO</th>\n",
       "      <th>RPT_YEAR</th>\n",
       "    </tr>\n",
       "  </thead>\n",
       "  <tbody>\n",
       "    <tr>\n",
       "      <th>0</th>\n",
       "      <td>111222720</td>\n",
       "      <td>44.0</td>\n",
       "      <td>06/11/2015</td>\n",
       "      <td>341</td>\n",
       "      <td>PETIT LARCENY</td>\n",
       "      <td>338.0</td>\n",
       "      <td>LARCENY,PETIT FROM BUILDING,UN</td>\n",
       "      <td>COMPLETED</td>\n",
       "      <td>MISDEMEANOR</td>\n",
       "      <td>BRONX</td>\n",
       "      <td>40.830128</td>\n",
       "      <td>-73.914423</td>\n",
       "      <td>PATROL BORO BRONX</td>\n",
       "      <td>2015</td>\n",
       "    </tr>\n",
       "    <tr>\n",
       "      <th>1</th>\n",
       "      <td>292167760</td>\n",
       "      <td>44.0</td>\n",
       "      <td>09/03/2015</td>\n",
       "      <td>235</td>\n",
       "      <td>DANGEROUS DRUGS</td>\n",
       "      <td>567.0</td>\n",
       "      <td>MARIJUANA, POSSESSION 4 &amp; 5</td>\n",
       "      <td>COMPLETED</td>\n",
       "      <td>MISDEMEANOR</td>\n",
       "      <td>BRONX</td>\n",
       "      <td>40.833925</td>\n",
       "      <td>-73.927008</td>\n",
       "      <td>PATROL BORO BRONX</td>\n",
       "      <td>2015</td>\n",
       "    </tr>\n",
       "    <tr>\n",
       "      <th>2</th>\n",
       "      <td>487791415</td>\n",
       "      <td>113.0</td>\n",
       "      <td>04/27/2015</td>\n",
       "      <td>126</td>\n",
       "      <td>MISCELLANEOUS PENAL LAW</td>\n",
       "      <td>198.0</td>\n",
       "      <td>CRIMINAL CONTEMPT 1</td>\n",
       "      <td>COMPLETED</td>\n",
       "      <td>FELONY</td>\n",
       "      <td>QUEENS</td>\n",
       "      <td>40.681686</td>\n",
       "      <td>-73.771141</td>\n",
       "      <td>PATROL BORO QUEENS SOUTH</td>\n",
       "      <td>2015</td>\n",
       "    </tr>\n",
       "    <tr>\n",
       "      <th>3</th>\n",
       "      <td>972622745</td>\n",
       "      <td>70.0</td>\n",
       "      <td>08/17/2015</td>\n",
       "      <td>361</td>\n",
       "      <td>OFF. AGNST PUB ORD SENSBLTY &amp;</td>\n",
       "      <td>639.0</td>\n",
       "      <td>AGGRAVATED HARASSMENT 2</td>\n",
       "      <td>COMPLETED</td>\n",
       "      <td>MISDEMEANOR</td>\n",
       "      <td>BROOKLYN</td>\n",
       "      <td>40.640855</td>\n",
       "      <td>-73.958207</td>\n",
       "      <td>PATROL BORO BKLYN SOUTH</td>\n",
       "      <td>2015</td>\n",
       "    </tr>\n",
       "    <tr>\n",
       "      <th>4</th>\n",
       "      <td>456922243</td>\n",
       "      <td>7.0</td>\n",
       "      <td>04/24/2015</td>\n",
       "      <td>351</td>\n",
       "      <td>CRIMINAL MISCHIEF &amp; RELATED OF</td>\n",
       "      <td>258.0</td>\n",
       "      <td>CRIMINAL MISCHIEF 4TH, GRAFFIT</td>\n",
       "      <td>COMPLETED</td>\n",
       "      <td>MISDEMEANOR</td>\n",
       "      <td>MANHATTAN</td>\n",
       "      <td>40.715288</td>\n",
       "      <td>-73.976471</td>\n",
       "      <td>PATROL BORO MAN SOUTH</td>\n",
       "      <td>2015</td>\n",
       "    </tr>\n",
       "  </tbody>\n",
       "</table>\n",
       "</div>"
      ],
      "text/plain": [
       "   CMPLNT_NUM  ADDR_PCT_CD      RPT_DT  KY_CD                       OFNS_DESC  \\\n",
       "0   111222720         44.0  06/11/2015    341                   PETIT LARCENY   \n",
       "1   292167760         44.0  09/03/2015    235                 DANGEROUS DRUGS   \n",
       "2   487791415        113.0  04/27/2015    126         MISCELLANEOUS PENAL LAW   \n",
       "3   972622745         70.0  08/17/2015    361   OFF. AGNST PUB ORD SENSBLTY &   \n",
       "4   456922243          7.0  04/24/2015    351  CRIMINAL MISCHIEF & RELATED OF   \n",
       "\n",
       "   PD_CD                         PD_DESC CRM_ATPT_CPTD_CD   LAW_CAT_CD  \\\n",
       "0  338.0  LARCENY,PETIT FROM BUILDING,UN        COMPLETED  MISDEMEANOR   \n",
       "1  567.0     MARIJUANA, POSSESSION 4 & 5        COMPLETED  MISDEMEANOR   \n",
       "2  198.0             CRIMINAL CONTEMPT 1        COMPLETED       FELONY   \n",
       "3  639.0         AGGRAVATED HARASSMENT 2        COMPLETED  MISDEMEANOR   \n",
       "4  258.0  CRIMINAL MISCHIEF 4TH, GRAFFIT        COMPLETED  MISDEMEANOR   \n",
       "\n",
       "     BORO_NM   Latitude  Longitude               PATROL_BORO  RPT_YEAR  \n",
       "0      BRONX  40.830128 -73.914423         PATROL BORO BRONX      2015  \n",
       "1      BRONX  40.833925 -73.927008         PATROL BORO BRONX      2015  \n",
       "2     QUEENS  40.681686 -73.771141  PATROL BORO QUEENS SOUTH      2015  \n",
       "3   BROOKLYN  40.640855 -73.958207   PATROL BORO BKLYN SOUTH      2015  \n",
       "4  MANHATTAN  40.715288 -73.976471     PATROL BORO MAN SOUTH      2015  "
      ]
     },
     "execution_count": 14,
     "metadata": {},
     "output_type": "execute_result"
    }
   ],
   "source": [
    "df.head()"
   ]
  },
  {
   "cell_type": "code",
   "execution_count": 15,
   "metadata": {},
   "outputs": [],
   "source": [
    "df.to_csv('./Output/NYPD_Complaint_Data_2015.csv',index=False)"
   ]
  },
  {
   "cell_type": "code",
   "execution_count": null,
   "metadata": {},
   "outputs": [],
   "source": []
  }
 ],
 "metadata": {
  "kernelspec": {
   "display_name": "Python 3",
   "language": "python",
   "name": "python3"
  },
  "language_info": {
   "codemirror_mode": {
    "name": "ipython",
    "version": 3
   },
   "file_extension": ".py",
   "mimetype": "text/x-python",
   "name": "python",
   "nbconvert_exporter": "python",
   "pygments_lexer": "ipython3",
   "version": "3.7.3"
  }
 },
 "nbformat": 4,
 "nbformat_minor": 2
}
