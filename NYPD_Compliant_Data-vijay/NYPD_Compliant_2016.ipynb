{
 "cells": [
  {
   "cell_type": "code",
   "execution_count": 1,
   "metadata": {},
   "outputs": [],
   "source": [
    "import pandas as pd\n",
    "# Data is from the following link\n",
    "# https://data.cityofnewyork.us/Public-Safety/NYPD-Complaint-Data-Historic/qgea-i56i"
   ]
  },
  {
   "cell_type": "code",
   "execution_count": 2,
   "metadata": {},
   "outputs": [
    {
     "name": "stderr",
     "output_type": "stream",
     "text": [
      "C:\\Users\\aarth\\Anaconda3\\lib\\site-packages\\IPython\\core\\interactiveshell.py:3057: DtypeWarning: Columns (20) have mixed types. Specify dtype option on import or set low_memory=False.\n",
      "  interactivity=interactivity, compiler=compiler, result=result)\n"
     ]
    }
   ],
   "source": [
    "df = pd.read_csv(\"NYPD_Complaint_Data_Historic_2016.csv\")"
   ]
  },
  {
   "cell_type": "code",
   "execution_count": 3,
   "metadata": {},
   "outputs": [
    {
     "data": {
      "text/plain": [
       "CMPLNT_NUM             int64\n",
       "CMPLNT_FR_DT          object\n",
       "CMPLNT_FR_TM          object\n",
       "CMPLNT_TO_DT          object\n",
       "CMPLNT_TO_TM          object\n",
       "ADDR_PCT_CD            int64\n",
       "RPT_DT                object\n",
       "KY_CD                  int64\n",
       "OFNS_DESC             object\n",
       "PD_CD                float64\n",
       "PD_DESC               object\n",
       "CRM_ATPT_CPTD_CD      object\n",
       "LAW_CAT_CD            object\n",
       "BORO_NM               object\n",
       "LOC_OF_OCCUR_DESC     object\n",
       "PREM_TYP_DESC         object\n",
       "JURIS_DESC            object\n",
       "JURISDICTION_CODE    float64\n",
       "PARKS_NM              object\n",
       "HADEVELOPT            object\n",
       "HOUSING_PSA           object\n",
       "X_COORD_CD            object\n",
       "Y_COORD_CD            object\n",
       "SUSP_AGE_GROUP        object\n",
       "SUSP_RACE             object\n",
       "SUSP_SEX              object\n",
       "TRANSIT_DISTRICT     float64\n",
       "Latitude             float64\n",
       "Longitude            float64\n",
       "Lat_Lon               object\n",
       "PATROL_BORO           object\n",
       "STATION_NAME          object\n",
       "VIC_AGE_GROUP         object\n",
       "VIC_RACE              object\n",
       "VIC_SEX               object\n",
       "dtype: object"
      ]
     },
     "execution_count": 3,
     "metadata": {},
     "output_type": "execute_result"
    }
   ],
   "source": [
    "df.dtypes"
   ]
  },
  {
   "cell_type": "code",
   "execution_count": 4,
   "metadata": {},
   "outputs": [],
   "source": [
    "#Removing complaint from & to dates, from & to columns as they are not required, there \n",
    "#is report_date and it will be retained.\n",
    "df = df.drop(['CMPLNT_FR_DT','CMPLNT_FR_TM','CMPLNT_TO_DT','CMPLNT_TO_TM'],axis=1)"
   ]
  },
  {
   "cell_type": "code",
   "execution_count": 5,
   "metadata": {},
   "outputs": [],
   "source": [
    "df = df.drop(['LOC_OF_OCCUR_DESC','PREM_TYP_DESC','JURIS_DESC','JURISDICTION_CODE'],axis=1)"
   ]
  },
  {
   "cell_type": "code",
   "execution_count": 6,
   "metadata": {},
   "outputs": [],
   "source": [
    "df = df.drop(['PARKS_NM','HADEVELOPT','HOUSING_PSA','X_COORD_CD','Y_COORD_CD'],axis=1)"
   ]
  },
  {
   "cell_type": "code",
   "execution_count": 7,
   "metadata": {},
   "outputs": [],
   "source": [
    "df = df.drop(['SUSP_AGE_GROUP','SUSP_RACE','SUSP_SEX','TRANSIT_DISTRICT',\\\n",
    "             'Lat_Lon','STATION_NAME','VIC_AGE_GROUP','VIC_RACE','VIC_SEX'],axis=1)"
   ]
  },
  {
   "cell_type": "code",
   "execution_count": 8,
   "metadata": {},
   "outputs": [
    {
     "data": {
      "text/plain": [
       "CMPLNT_NUM            int64\n",
       "ADDR_PCT_CD           int64\n",
       "RPT_DT               object\n",
       "KY_CD                 int64\n",
       "OFNS_DESC            object\n",
       "PD_CD               float64\n",
       "PD_DESC              object\n",
       "CRM_ATPT_CPTD_CD     object\n",
       "LAW_CAT_CD           object\n",
       "BORO_NM              object\n",
       "Latitude            float64\n",
       "Longitude           float64\n",
       "PATROL_BORO          object\n",
       "dtype: object"
      ]
     },
     "execution_count": 8,
     "metadata": {},
     "output_type": "execute_result"
    }
   ],
   "source": [
    "df.dtypes"
   ]
  },
  {
   "cell_type": "code",
   "execution_count": 9,
   "metadata": {},
   "outputs": [
    {
     "data": {
      "text/html": [
       "<div>\n",
       "<style scoped>\n",
       "    .dataframe tbody tr th:only-of-type {\n",
       "        vertical-align: middle;\n",
       "    }\n",
       "\n",
       "    .dataframe tbody tr th {\n",
       "        vertical-align: top;\n",
       "    }\n",
       "\n",
       "    .dataframe thead th {\n",
       "        text-align: right;\n",
       "    }\n",
       "</style>\n",
       "<table border=\"1\" class=\"dataframe\">\n",
       "  <thead>\n",
       "    <tr style=\"text-align: right;\">\n",
       "      <th></th>\n",
       "      <th>CMPLNT_NUM</th>\n",
       "      <th>ADDR_PCT_CD</th>\n",
       "      <th>RPT_DT</th>\n",
       "      <th>KY_CD</th>\n",
       "      <th>OFNS_DESC</th>\n",
       "      <th>PD_CD</th>\n",
       "      <th>PD_DESC</th>\n",
       "      <th>CRM_ATPT_CPTD_CD</th>\n",
       "      <th>LAW_CAT_CD</th>\n",
       "      <th>BORO_NM</th>\n",
       "      <th>Latitude</th>\n",
       "      <th>Longitude</th>\n",
       "      <th>PATROL_BORO</th>\n",
       "    </tr>\n",
       "  </thead>\n",
       "  <tbody>\n",
       "    <tr>\n",
       "      <th>0</th>\n",
       "      <td>594527773</td>\n",
       "      <td>34</td>\n",
       "      <td>05/29/2018</td>\n",
       "      <td>104</td>\n",
       "      <td>RAPE</td>\n",
       "      <td>157.0</td>\n",
       "      <td>RAPE 1</td>\n",
       "      <td>COMPLETED</td>\n",
       "      <td>FELONY</td>\n",
       "      <td>MANHATTAN</td>\n",
       "      <td>40.851488</td>\n",
       "      <td>-73.935458</td>\n",
       "      <td>PATROL BORO MAN NORTH</td>\n",
       "    </tr>\n",
       "    <tr>\n",
       "      <th>1</th>\n",
       "      <td>926821201</td>\n",
       "      <td>32</td>\n",
       "      <td>02/21/2016</td>\n",
       "      <td>106</td>\n",
       "      <td>FELONY ASSAULT</td>\n",
       "      <td>109.0</td>\n",
       "      <td>ASSAULT 2,1,UNCLASSIFIED</td>\n",
       "      <td>COMPLETED</td>\n",
       "      <td>FELONY</td>\n",
       "      <td>MANHATTAN</td>\n",
       "      <td>40.809413</td>\n",
       "      <td>-73.944367</td>\n",
       "      <td>PATROL BORO MAN NORTH</td>\n",
       "    </tr>\n",
       "    <tr>\n",
       "      <th>2</th>\n",
       "      <td>428626445</td>\n",
       "      <td>47</td>\n",
       "      <td>09/16/2016</td>\n",
       "      <td>344</td>\n",
       "      <td>ASSAULT 3 &amp; RELATED OFFENSES</td>\n",
       "      <td>101.0</td>\n",
       "      <td>ASSAULT 3</td>\n",
       "      <td>COMPLETED</td>\n",
       "      <td>MISDEMEANOR</td>\n",
       "      <td>BRONX</td>\n",
       "      <td>40.894634</td>\n",
       "      <td>-73.858395</td>\n",
       "      <td>PATROL BORO BRONX</td>\n",
       "    </tr>\n",
       "    <tr>\n",
       "      <th>3</th>\n",
       "      <td>130980962</td>\n",
       "      <td>10</td>\n",
       "      <td>04/25/2016</td>\n",
       "      <td>341</td>\n",
       "      <td>PETIT LARCENY</td>\n",
       "      <td>333.0</td>\n",
       "      <td>LARCENY,PETIT FROM STORE-SHOPL</td>\n",
       "      <td>COMPLETED</td>\n",
       "      <td>MISDEMEANOR</td>\n",
       "      <td>MANHATTAN</td>\n",
       "      <td>40.739161</td>\n",
       "      <td>-74.001106</td>\n",
       "      <td>PATROL BORO MAN SOUTH</td>\n",
       "    </tr>\n",
       "    <tr>\n",
       "      <th>4</th>\n",
       "      <td>294841406</td>\n",
       "      <td>108</td>\n",
       "      <td>06/15/2016</td>\n",
       "      <td>578</td>\n",
       "      <td>HARRASSMENT 2</td>\n",
       "      <td>638.0</td>\n",
       "      <td>HARASSMENT,SUBD 3,4,5</td>\n",
       "      <td>COMPLETED</td>\n",
       "      <td>VIOLATION</td>\n",
       "      <td>QUEENS</td>\n",
       "      <td>40.745136</td>\n",
       "      <td>-73.908523</td>\n",
       "      <td>PATROL BORO QUEENS NORTH</td>\n",
       "    </tr>\n",
       "  </tbody>\n",
       "</table>\n",
       "</div>"
      ],
      "text/plain": [
       "   CMPLNT_NUM  ADDR_PCT_CD      RPT_DT  KY_CD                     OFNS_DESC  \\\n",
       "0   594527773           34  05/29/2018    104                          RAPE   \n",
       "1   926821201           32  02/21/2016    106                FELONY ASSAULT   \n",
       "2   428626445           47  09/16/2016    344  ASSAULT 3 & RELATED OFFENSES   \n",
       "3   130980962           10  04/25/2016    341                 PETIT LARCENY   \n",
       "4   294841406          108  06/15/2016    578                 HARRASSMENT 2   \n",
       "\n",
       "   PD_CD                         PD_DESC CRM_ATPT_CPTD_CD   LAW_CAT_CD  \\\n",
       "0  157.0                          RAPE 1        COMPLETED       FELONY   \n",
       "1  109.0        ASSAULT 2,1,UNCLASSIFIED        COMPLETED       FELONY   \n",
       "2  101.0                       ASSAULT 3        COMPLETED  MISDEMEANOR   \n",
       "3  333.0  LARCENY,PETIT FROM STORE-SHOPL        COMPLETED  MISDEMEANOR   \n",
       "4  638.0           HARASSMENT,SUBD 3,4,5        COMPLETED    VIOLATION   \n",
       "\n",
       "     BORO_NM   Latitude  Longitude               PATROL_BORO  \n",
       "0  MANHATTAN  40.851488 -73.935458     PATROL BORO MAN NORTH  \n",
       "1  MANHATTAN  40.809413 -73.944367     PATROL BORO MAN NORTH  \n",
       "2      BRONX  40.894634 -73.858395         PATROL BORO BRONX  \n",
       "3  MANHATTAN  40.739161 -74.001106     PATROL BORO MAN SOUTH  \n",
       "4     QUEENS  40.745136 -73.908523  PATROL BORO QUEENS NORTH  "
      ]
     },
     "execution_count": 9,
     "metadata": {},
     "output_type": "execute_result"
    }
   ],
   "source": [
    "df.head()"
   ]
  },
  {
   "cell_type": "code",
   "execution_count": 10,
   "metadata": {},
   "outputs": [],
   "source": [
    "df = df.dropna()"
   ]
  },
  {
   "cell_type": "code",
   "execution_count": 11,
   "metadata": {},
   "outputs": [],
   "source": [
    "df['RPT_DT_TIME'] = pd.to_datetime(df['RPT_DT'])"
   ]
  },
  {
   "cell_type": "code",
   "execution_count": 12,
   "metadata": {},
   "outputs": [],
   "source": [
    "df['RPT_YEAR'] = df['RPT_DT_TIME'].dt.year"
   ]
  },
  {
   "cell_type": "code",
   "execution_count": 13,
   "metadata": {},
   "outputs": [],
   "source": [
    "df = df.drop(['RPT_DT_TIME'],axis=1)"
   ]
  },
  {
   "cell_type": "code",
   "execution_count": 14,
   "metadata": {},
   "outputs": [
    {
     "data": {
      "text/html": [
       "<div>\n",
       "<style scoped>\n",
       "    .dataframe tbody tr th:only-of-type {\n",
       "        vertical-align: middle;\n",
       "    }\n",
       "\n",
       "    .dataframe tbody tr th {\n",
       "        vertical-align: top;\n",
       "    }\n",
       "\n",
       "    .dataframe thead th {\n",
       "        text-align: right;\n",
       "    }\n",
       "</style>\n",
       "<table border=\"1\" class=\"dataframe\">\n",
       "  <thead>\n",
       "    <tr style=\"text-align: right;\">\n",
       "      <th></th>\n",
       "      <th>CMPLNT_NUM</th>\n",
       "      <th>ADDR_PCT_CD</th>\n",
       "      <th>RPT_DT</th>\n",
       "      <th>KY_CD</th>\n",
       "      <th>OFNS_DESC</th>\n",
       "      <th>PD_CD</th>\n",
       "      <th>PD_DESC</th>\n",
       "      <th>CRM_ATPT_CPTD_CD</th>\n",
       "      <th>LAW_CAT_CD</th>\n",
       "      <th>BORO_NM</th>\n",
       "      <th>Latitude</th>\n",
       "      <th>Longitude</th>\n",
       "      <th>PATROL_BORO</th>\n",
       "      <th>RPT_YEAR</th>\n",
       "    </tr>\n",
       "  </thead>\n",
       "  <tbody>\n",
       "    <tr>\n",
       "      <th>0</th>\n",
       "      <td>594527773</td>\n",
       "      <td>34</td>\n",
       "      <td>05/29/2018</td>\n",
       "      <td>104</td>\n",
       "      <td>RAPE</td>\n",
       "      <td>157.0</td>\n",
       "      <td>RAPE 1</td>\n",
       "      <td>COMPLETED</td>\n",
       "      <td>FELONY</td>\n",
       "      <td>MANHATTAN</td>\n",
       "      <td>40.851488</td>\n",
       "      <td>-73.935458</td>\n",
       "      <td>PATROL BORO MAN NORTH</td>\n",
       "      <td>2018</td>\n",
       "    </tr>\n",
       "    <tr>\n",
       "      <th>1</th>\n",
       "      <td>926821201</td>\n",
       "      <td>32</td>\n",
       "      <td>02/21/2016</td>\n",
       "      <td>106</td>\n",
       "      <td>FELONY ASSAULT</td>\n",
       "      <td>109.0</td>\n",
       "      <td>ASSAULT 2,1,UNCLASSIFIED</td>\n",
       "      <td>COMPLETED</td>\n",
       "      <td>FELONY</td>\n",
       "      <td>MANHATTAN</td>\n",
       "      <td>40.809413</td>\n",
       "      <td>-73.944367</td>\n",
       "      <td>PATROL BORO MAN NORTH</td>\n",
       "      <td>2016</td>\n",
       "    </tr>\n",
       "    <tr>\n",
       "      <th>2</th>\n",
       "      <td>428626445</td>\n",
       "      <td>47</td>\n",
       "      <td>09/16/2016</td>\n",
       "      <td>344</td>\n",
       "      <td>ASSAULT 3 &amp; RELATED OFFENSES</td>\n",
       "      <td>101.0</td>\n",
       "      <td>ASSAULT 3</td>\n",
       "      <td>COMPLETED</td>\n",
       "      <td>MISDEMEANOR</td>\n",
       "      <td>BRONX</td>\n",
       "      <td>40.894634</td>\n",
       "      <td>-73.858395</td>\n",
       "      <td>PATROL BORO BRONX</td>\n",
       "      <td>2016</td>\n",
       "    </tr>\n",
       "    <tr>\n",
       "      <th>3</th>\n",
       "      <td>130980962</td>\n",
       "      <td>10</td>\n",
       "      <td>04/25/2016</td>\n",
       "      <td>341</td>\n",
       "      <td>PETIT LARCENY</td>\n",
       "      <td>333.0</td>\n",
       "      <td>LARCENY,PETIT FROM STORE-SHOPL</td>\n",
       "      <td>COMPLETED</td>\n",
       "      <td>MISDEMEANOR</td>\n",
       "      <td>MANHATTAN</td>\n",
       "      <td>40.739161</td>\n",
       "      <td>-74.001106</td>\n",
       "      <td>PATROL BORO MAN SOUTH</td>\n",
       "      <td>2016</td>\n",
       "    </tr>\n",
       "    <tr>\n",
       "      <th>4</th>\n",
       "      <td>294841406</td>\n",
       "      <td>108</td>\n",
       "      <td>06/15/2016</td>\n",
       "      <td>578</td>\n",
       "      <td>HARRASSMENT 2</td>\n",
       "      <td>638.0</td>\n",
       "      <td>HARASSMENT,SUBD 3,4,5</td>\n",
       "      <td>COMPLETED</td>\n",
       "      <td>VIOLATION</td>\n",
       "      <td>QUEENS</td>\n",
       "      <td>40.745136</td>\n",
       "      <td>-73.908523</td>\n",
       "      <td>PATROL BORO QUEENS NORTH</td>\n",
       "      <td>2016</td>\n",
       "    </tr>\n",
       "  </tbody>\n",
       "</table>\n",
       "</div>"
      ],
      "text/plain": [
       "   CMPLNT_NUM  ADDR_PCT_CD      RPT_DT  KY_CD                     OFNS_DESC  \\\n",
       "0   594527773           34  05/29/2018    104                          RAPE   \n",
       "1   926821201           32  02/21/2016    106                FELONY ASSAULT   \n",
       "2   428626445           47  09/16/2016    344  ASSAULT 3 & RELATED OFFENSES   \n",
       "3   130980962           10  04/25/2016    341                 PETIT LARCENY   \n",
       "4   294841406          108  06/15/2016    578                 HARRASSMENT 2   \n",
       "\n",
       "   PD_CD                         PD_DESC CRM_ATPT_CPTD_CD   LAW_CAT_CD  \\\n",
       "0  157.0                          RAPE 1        COMPLETED       FELONY   \n",
       "1  109.0        ASSAULT 2,1,UNCLASSIFIED        COMPLETED       FELONY   \n",
       "2  101.0                       ASSAULT 3        COMPLETED  MISDEMEANOR   \n",
       "3  333.0  LARCENY,PETIT FROM STORE-SHOPL        COMPLETED  MISDEMEANOR   \n",
       "4  638.0           HARASSMENT,SUBD 3,4,5        COMPLETED    VIOLATION   \n",
       "\n",
       "     BORO_NM   Latitude  Longitude               PATROL_BORO  RPT_YEAR  \n",
       "0  MANHATTAN  40.851488 -73.935458     PATROL BORO MAN NORTH      2018  \n",
       "1  MANHATTAN  40.809413 -73.944367     PATROL BORO MAN NORTH      2016  \n",
       "2      BRONX  40.894634 -73.858395         PATROL BORO BRONX      2016  \n",
       "3  MANHATTAN  40.739161 -74.001106     PATROL BORO MAN SOUTH      2016  \n",
       "4     QUEENS  40.745136 -73.908523  PATROL BORO QUEENS NORTH      2016  "
      ]
     },
     "execution_count": 14,
     "metadata": {},
     "output_type": "execute_result"
    }
   ],
   "source": [
    "df.head()"
   ]
  },
  {
   "cell_type": "code",
   "execution_count": 15,
   "metadata": {},
   "outputs": [],
   "source": [
    "df.to_csv('./Output/NYPD_Complaint_Data_2016.csv',index=False)"
   ]
  },
  {
   "cell_type": "code",
   "execution_count": null,
   "metadata": {},
   "outputs": [],
   "source": []
  }
 ],
 "metadata": {
  "kernelspec": {
   "display_name": "Python 3",
   "language": "python",
   "name": "python3"
  },
  "language_info": {
   "codemirror_mode": {
    "name": "ipython",
    "version": 3
   },
   "file_extension": ".py",
   "mimetype": "text/x-python",
   "name": "python",
   "nbconvert_exporter": "python",
   "pygments_lexer": "ipython3",
   "version": "3.7.3"
  }
 },
 "nbformat": 4,
 "nbformat_minor": 2
}
