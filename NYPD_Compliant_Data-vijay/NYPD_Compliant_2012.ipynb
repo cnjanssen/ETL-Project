{
 "cells": [
  {
   "cell_type": "code",
   "execution_count": 2,
   "metadata": {},
   "outputs": [],
   "source": [
    "import pandas as pd\n",
    "# Data is from the following link\n",
    "# https://data.cityofnewyork.us/Public-Safety/NYPD-Complaint-Data-Historic/qgea-i56i"
   ]
  },
  {
   "cell_type": "code",
   "execution_count": 3,
   "metadata": {},
   "outputs": [
    {
     "name": "stderr",
     "output_type": "stream",
     "text": [
      "C:\\Users\\aarth\\Anaconda3\\lib\\site-packages\\IPython\\core\\interactiveshell.py:3057: DtypeWarning: Columns (18,20) have mixed types. Specify dtype option on import or set low_memory=False.\n",
      "  interactivity=interactivity, compiler=compiler, result=result)\n"
     ]
    }
   ],
   "source": [
    "df = pd.read_csv(\"NYPD_Complaint_Data_Historic_2012.csv\")"
   ]
  },
  {
   "cell_type": "code",
   "execution_count": 4,
   "metadata": {},
   "outputs": [
    {
     "data": {
      "text/plain": [
       "CMPLNT_NUM             int64\n",
       "CMPLNT_FR_DT          object\n",
       "CMPLNT_FR_TM          object\n",
       "CMPLNT_TO_DT          object\n",
       "CMPLNT_TO_TM          object\n",
       "ADDR_PCT_CD          float64\n",
       "RPT_DT                object\n",
       "KY_CD                  int64\n",
       "OFNS_DESC             object\n",
       "PD_CD                float64\n",
       "PD_DESC               object\n",
       "CRM_ATPT_CPTD_CD      object\n",
       "LAW_CAT_CD            object\n",
       "BORO_NM               object\n",
       "LOC_OF_OCCUR_DESC     object\n",
       "PREM_TYP_DESC         object\n",
       "JURIS_DESC            object\n",
       "JURISDICTION_CODE    float64\n",
       "PARKS_NM              object\n",
       "HADEVELOPT            object\n",
       "HOUSING_PSA           object\n",
       "X_COORD_CD            object\n",
       "Y_COORD_CD            object\n",
       "SUSP_AGE_GROUP        object\n",
       "SUSP_RACE             object\n",
       "SUSP_SEX              object\n",
       "TRANSIT_DISTRICT     float64\n",
       "Latitude             float64\n",
       "Longitude            float64\n",
       "Lat_Lon               object\n",
       "PATROL_BORO           object\n",
       "STATION_NAME          object\n",
       "VIC_AGE_GROUP         object\n",
       "VIC_RACE              object\n",
       "VIC_SEX               object\n",
       "dtype: object"
      ]
     },
     "execution_count": 4,
     "metadata": {},
     "output_type": "execute_result"
    }
   ],
   "source": [
    "df.dtypes"
   ]
  },
  {
   "cell_type": "code",
   "execution_count": 5,
   "metadata": {},
   "outputs": [],
   "source": [
    "#Removing complaint from & to dates, from & to columns as they are not required, there \n",
    "#is report_date and it will be retained.\n",
    "df = df.drop(['CMPLNT_FR_DT','CMPLNT_FR_TM','CMPLNT_TO_DT','CMPLNT_TO_TM'],axis=1)"
   ]
  },
  {
   "cell_type": "code",
   "execution_count": 6,
   "metadata": {},
   "outputs": [],
   "source": [
    "df = df.drop(['LOC_OF_OCCUR_DESC','PREM_TYP_DESC','JURIS_DESC','JURISDICTION_CODE'],axis=1)"
   ]
  },
  {
   "cell_type": "code",
   "execution_count": 7,
   "metadata": {},
   "outputs": [],
   "source": [
    "df = df.drop(['PARKS_NM','HADEVELOPT','HOUSING_PSA','X_COORD_CD','Y_COORD_CD'],axis=1)"
   ]
  },
  {
   "cell_type": "code",
   "execution_count": 8,
   "metadata": {},
   "outputs": [],
   "source": [
    "df = df.drop(['SUSP_AGE_GROUP','SUSP_RACE','SUSP_SEX','TRANSIT_DISTRICT',\\\n",
    "             'Lat_Lon','STATION_NAME','VIC_AGE_GROUP','VIC_RACE','VIC_SEX'],axis=1)"
   ]
  },
  {
   "cell_type": "code",
   "execution_count": 9,
   "metadata": {},
   "outputs": [
    {
     "data": {
      "text/plain": [
       "CMPLNT_NUM            int64\n",
       "ADDR_PCT_CD         float64\n",
       "RPT_DT               object\n",
       "KY_CD                 int64\n",
       "OFNS_DESC            object\n",
       "PD_CD               float64\n",
       "PD_DESC              object\n",
       "CRM_ATPT_CPTD_CD     object\n",
       "LAW_CAT_CD           object\n",
       "BORO_NM              object\n",
       "Latitude            float64\n",
       "Longitude           float64\n",
       "PATROL_BORO          object\n",
       "dtype: object"
      ]
     },
     "execution_count": 9,
     "metadata": {},
     "output_type": "execute_result"
    }
   ],
   "source": [
    "df.dtypes"
   ]
  },
  {
   "cell_type": "code",
   "execution_count": 10,
   "metadata": {},
   "outputs": [
    {
     "data": {
      "text/html": [
       "<div>\n",
       "<style scoped>\n",
       "    .dataframe tbody tr th:only-of-type {\n",
       "        vertical-align: middle;\n",
       "    }\n",
       "\n",
       "    .dataframe tbody tr th {\n",
       "        vertical-align: top;\n",
       "    }\n",
       "\n",
       "    .dataframe thead th {\n",
       "        text-align: right;\n",
       "    }\n",
       "</style>\n",
       "<table border=\"1\" class=\"dataframe\">\n",
       "  <thead>\n",
       "    <tr style=\"text-align: right;\">\n",
       "      <th></th>\n",
       "      <th>CMPLNT_NUM</th>\n",
       "      <th>ADDR_PCT_CD</th>\n",
       "      <th>RPT_DT</th>\n",
       "      <th>KY_CD</th>\n",
       "      <th>OFNS_DESC</th>\n",
       "      <th>PD_CD</th>\n",
       "      <th>PD_DESC</th>\n",
       "      <th>CRM_ATPT_CPTD_CD</th>\n",
       "      <th>LAW_CAT_CD</th>\n",
       "      <th>BORO_NM</th>\n",
       "      <th>Latitude</th>\n",
       "      <th>Longitude</th>\n",
       "      <th>PATROL_BORO</th>\n",
       "    </tr>\n",
       "  </thead>\n",
       "  <tbody>\n",
       "    <tr>\n",
       "      <th>0</th>\n",
       "      <td>865552931</td>\n",
       "      <td>10.0</td>\n",
       "      <td>12/27/2012</td>\n",
       "      <td>235</td>\n",
       "      <td>DANGEROUS DRUGS</td>\n",
       "      <td>567.0</td>\n",
       "      <td>MARIJUANA, POSSESSION 4 &amp; 5</td>\n",
       "      <td>COMPLETED</td>\n",
       "      <td>MISDEMEANOR</td>\n",
       "      <td>MANHATTAN</td>\n",
       "      <td>40.757740</td>\n",
       "      <td>-73.996854</td>\n",
       "      <td>PATROL BORO MAN SOUTH</td>\n",
       "    </tr>\n",
       "    <tr>\n",
       "      <th>1</th>\n",
       "      <td>383837261</td>\n",
       "      <td>40.0</td>\n",
       "      <td>10/23/2012</td>\n",
       "      <td>235</td>\n",
       "      <td>DANGEROUS DRUGS</td>\n",
       "      <td>567.0</td>\n",
       "      <td>MARIJUANA, POSSESSION 4 &amp; 5</td>\n",
       "      <td>COMPLETED</td>\n",
       "      <td>MISDEMEANOR</td>\n",
       "      <td>BRONX</td>\n",
       "      <td>40.812901</td>\n",
       "      <td>-73.920120</td>\n",
       "      <td>PATROL BORO BRONX</td>\n",
       "    </tr>\n",
       "    <tr>\n",
       "      <th>2</th>\n",
       "      <td>382714781</td>\n",
       "      <td>77.0</td>\n",
       "      <td>07/07/2012</td>\n",
       "      <td>235</td>\n",
       "      <td>DANGEROUS DRUGS</td>\n",
       "      <td>569.0</td>\n",
       "      <td>MARIJUANA, SALE 4 &amp; 5</td>\n",
       "      <td>COMPLETED</td>\n",
       "      <td>MISDEMEANOR</td>\n",
       "      <td>BROOKLYN</td>\n",
       "      <td>40.676539</td>\n",
       "      <td>-73.954410</td>\n",
       "      <td>PATROL BORO BKLYN NORTH</td>\n",
       "    </tr>\n",
       "    <tr>\n",
       "      <th>3</th>\n",
       "      <td>263969996</td>\n",
       "      <td>52.0</td>\n",
       "      <td>02/17/2012</td>\n",
       "      <td>353</td>\n",
       "      <td>UNAUTHORIZED USE OF A VEHICLE</td>\n",
       "      <td>462.0</td>\n",
       "      <td>UNAUTHORIZED USE VEHICLE 3</td>\n",
       "      <td>COMPLETED</td>\n",
       "      <td>MISDEMEANOR</td>\n",
       "      <td>BRONX</td>\n",
       "      <td>40.882718</td>\n",
       "      <td>-73.881247</td>\n",
       "      <td>PATROL BORO BRONX</td>\n",
       "    </tr>\n",
       "    <tr>\n",
       "      <th>4</th>\n",
       "      <td>156042738</td>\n",
       "      <td>108.0</td>\n",
       "      <td>07/12/2012</td>\n",
       "      <td>351</td>\n",
       "      <td>CRIMINAL MISCHIEF &amp; RELATED OF</td>\n",
       "      <td>254.0</td>\n",
       "      <td>MISCHIEF, CRIMINAL 4, OF MOTOR</td>\n",
       "      <td>COMPLETED</td>\n",
       "      <td>MISDEMEANOR</td>\n",
       "      <td>QUEENS</td>\n",
       "      <td>40.743080</td>\n",
       "      <td>-73.954736</td>\n",
       "      <td>PATROL BORO QUEENS NORTH</td>\n",
       "    </tr>\n",
       "  </tbody>\n",
       "</table>\n",
       "</div>"
      ],
      "text/plain": [
       "   CMPLNT_NUM  ADDR_PCT_CD      RPT_DT  KY_CD                       OFNS_DESC  \\\n",
       "0   865552931         10.0  12/27/2012    235                 DANGEROUS DRUGS   \n",
       "1   383837261         40.0  10/23/2012    235                 DANGEROUS DRUGS   \n",
       "2   382714781         77.0  07/07/2012    235                 DANGEROUS DRUGS   \n",
       "3   263969996         52.0  02/17/2012    353   UNAUTHORIZED USE OF A VEHICLE   \n",
       "4   156042738        108.0  07/12/2012    351  CRIMINAL MISCHIEF & RELATED OF   \n",
       "\n",
       "   PD_CD                         PD_DESC CRM_ATPT_CPTD_CD   LAW_CAT_CD  \\\n",
       "0  567.0     MARIJUANA, POSSESSION 4 & 5        COMPLETED  MISDEMEANOR   \n",
       "1  567.0     MARIJUANA, POSSESSION 4 & 5        COMPLETED  MISDEMEANOR   \n",
       "2  569.0           MARIJUANA, SALE 4 & 5        COMPLETED  MISDEMEANOR   \n",
       "3  462.0      UNAUTHORIZED USE VEHICLE 3        COMPLETED  MISDEMEANOR   \n",
       "4  254.0  MISCHIEF, CRIMINAL 4, OF MOTOR        COMPLETED  MISDEMEANOR   \n",
       "\n",
       "     BORO_NM   Latitude  Longitude               PATROL_BORO  \n",
       "0  MANHATTAN  40.757740 -73.996854     PATROL BORO MAN SOUTH  \n",
       "1      BRONX  40.812901 -73.920120         PATROL BORO BRONX  \n",
       "2   BROOKLYN  40.676539 -73.954410   PATROL BORO BKLYN NORTH  \n",
       "3      BRONX  40.882718 -73.881247         PATROL BORO BRONX  \n",
       "4     QUEENS  40.743080 -73.954736  PATROL BORO QUEENS NORTH  "
      ]
     },
     "execution_count": 10,
     "metadata": {},
     "output_type": "execute_result"
    }
   ],
   "source": [
    "df.head()"
   ]
  },
  {
   "cell_type": "code",
   "execution_count": 11,
   "metadata": {},
   "outputs": [],
   "source": [
    "df = df.dropna()"
   ]
  },
  {
   "cell_type": "code",
   "execution_count": 13,
   "metadata": {},
   "outputs": [],
   "source": [
    "df['RPT_DT_TIME'] = pd.to_datetime(df['RPT_DT'])"
   ]
  },
  {
   "cell_type": "code",
   "execution_count": 15,
   "metadata": {},
   "outputs": [],
   "source": [
    "df['RPT_YEAR'] = df['RPT_DT_TIME'].dt.year"
   ]
  },
  {
   "cell_type": "code",
   "execution_count": 19,
   "metadata": {},
   "outputs": [],
   "source": [
    "df = df.drop(['RPT_DT_TIME'],axis=1)"
   ]
  },
  {
   "cell_type": "code",
   "execution_count": 16,
   "metadata": {},
   "outputs": [
    {
     "data": {
      "text/html": [
       "<div>\n",
       "<style scoped>\n",
       "    .dataframe tbody tr th:only-of-type {\n",
       "        vertical-align: middle;\n",
       "    }\n",
       "\n",
       "    .dataframe tbody tr th {\n",
       "        vertical-align: top;\n",
       "    }\n",
       "\n",
       "    .dataframe thead th {\n",
       "        text-align: right;\n",
       "    }\n",
       "</style>\n",
       "<table border=\"1\" class=\"dataframe\">\n",
       "  <thead>\n",
       "    <tr style=\"text-align: right;\">\n",
       "      <th></th>\n",
       "      <th>CMPLNT_NUM</th>\n",
       "      <th>ADDR_PCT_CD</th>\n",
       "      <th>RPT_DT</th>\n",
       "      <th>KY_CD</th>\n",
       "      <th>OFNS_DESC</th>\n",
       "      <th>PD_CD</th>\n",
       "      <th>PD_DESC</th>\n",
       "      <th>CRM_ATPT_CPTD_CD</th>\n",
       "      <th>LAW_CAT_CD</th>\n",
       "      <th>BORO_NM</th>\n",
       "      <th>Latitude</th>\n",
       "      <th>Longitude</th>\n",
       "      <th>PATROL_BORO</th>\n",
       "      <th>RPT_DT_TIME</th>\n",
       "      <th>RPT_YEAR</th>\n",
       "    </tr>\n",
       "  </thead>\n",
       "  <tbody>\n",
       "    <tr>\n",
       "      <th>0</th>\n",
       "      <td>865552931</td>\n",
       "      <td>10.0</td>\n",
       "      <td>12/27/2012</td>\n",
       "      <td>235</td>\n",
       "      <td>DANGEROUS DRUGS</td>\n",
       "      <td>567.0</td>\n",
       "      <td>MARIJUANA, POSSESSION 4 &amp; 5</td>\n",
       "      <td>COMPLETED</td>\n",
       "      <td>MISDEMEANOR</td>\n",
       "      <td>MANHATTAN</td>\n",
       "      <td>40.757740</td>\n",
       "      <td>-73.996854</td>\n",
       "      <td>PATROL BORO MAN SOUTH</td>\n",
       "      <td>2012-12-27</td>\n",
       "      <td>2012</td>\n",
       "    </tr>\n",
       "    <tr>\n",
       "      <th>1</th>\n",
       "      <td>383837261</td>\n",
       "      <td>40.0</td>\n",
       "      <td>10/23/2012</td>\n",
       "      <td>235</td>\n",
       "      <td>DANGEROUS DRUGS</td>\n",
       "      <td>567.0</td>\n",
       "      <td>MARIJUANA, POSSESSION 4 &amp; 5</td>\n",
       "      <td>COMPLETED</td>\n",
       "      <td>MISDEMEANOR</td>\n",
       "      <td>BRONX</td>\n",
       "      <td>40.812901</td>\n",
       "      <td>-73.920120</td>\n",
       "      <td>PATROL BORO BRONX</td>\n",
       "      <td>2012-10-23</td>\n",
       "      <td>2012</td>\n",
       "    </tr>\n",
       "    <tr>\n",
       "      <th>2</th>\n",
       "      <td>382714781</td>\n",
       "      <td>77.0</td>\n",
       "      <td>07/07/2012</td>\n",
       "      <td>235</td>\n",
       "      <td>DANGEROUS DRUGS</td>\n",
       "      <td>569.0</td>\n",
       "      <td>MARIJUANA, SALE 4 &amp; 5</td>\n",
       "      <td>COMPLETED</td>\n",
       "      <td>MISDEMEANOR</td>\n",
       "      <td>BROOKLYN</td>\n",
       "      <td>40.676539</td>\n",
       "      <td>-73.954410</td>\n",
       "      <td>PATROL BORO BKLYN NORTH</td>\n",
       "      <td>2012-07-07</td>\n",
       "      <td>2012</td>\n",
       "    </tr>\n",
       "    <tr>\n",
       "      <th>3</th>\n",
       "      <td>263969996</td>\n",
       "      <td>52.0</td>\n",
       "      <td>02/17/2012</td>\n",
       "      <td>353</td>\n",
       "      <td>UNAUTHORIZED USE OF A VEHICLE</td>\n",
       "      <td>462.0</td>\n",
       "      <td>UNAUTHORIZED USE VEHICLE 3</td>\n",
       "      <td>COMPLETED</td>\n",
       "      <td>MISDEMEANOR</td>\n",
       "      <td>BRONX</td>\n",
       "      <td>40.882718</td>\n",
       "      <td>-73.881247</td>\n",
       "      <td>PATROL BORO BRONX</td>\n",
       "      <td>2012-02-17</td>\n",
       "      <td>2012</td>\n",
       "    </tr>\n",
       "    <tr>\n",
       "      <th>4</th>\n",
       "      <td>156042738</td>\n",
       "      <td>108.0</td>\n",
       "      <td>07/12/2012</td>\n",
       "      <td>351</td>\n",
       "      <td>CRIMINAL MISCHIEF &amp; RELATED OF</td>\n",
       "      <td>254.0</td>\n",
       "      <td>MISCHIEF, CRIMINAL 4, OF MOTOR</td>\n",
       "      <td>COMPLETED</td>\n",
       "      <td>MISDEMEANOR</td>\n",
       "      <td>QUEENS</td>\n",
       "      <td>40.743080</td>\n",
       "      <td>-73.954736</td>\n",
       "      <td>PATROL BORO QUEENS NORTH</td>\n",
       "      <td>2012-07-12</td>\n",
       "      <td>2012</td>\n",
       "    </tr>\n",
       "  </tbody>\n",
       "</table>\n",
       "</div>"
      ],
      "text/plain": [
       "   CMPLNT_NUM  ADDR_PCT_CD      RPT_DT  KY_CD                       OFNS_DESC  \\\n",
       "0   865552931         10.0  12/27/2012    235                 DANGEROUS DRUGS   \n",
       "1   383837261         40.0  10/23/2012    235                 DANGEROUS DRUGS   \n",
       "2   382714781         77.0  07/07/2012    235                 DANGEROUS DRUGS   \n",
       "3   263969996         52.0  02/17/2012    353   UNAUTHORIZED USE OF A VEHICLE   \n",
       "4   156042738        108.0  07/12/2012    351  CRIMINAL MISCHIEF & RELATED OF   \n",
       "\n",
       "   PD_CD                         PD_DESC CRM_ATPT_CPTD_CD   LAW_CAT_CD  \\\n",
       "0  567.0     MARIJUANA, POSSESSION 4 & 5        COMPLETED  MISDEMEANOR   \n",
       "1  567.0     MARIJUANA, POSSESSION 4 & 5        COMPLETED  MISDEMEANOR   \n",
       "2  569.0           MARIJUANA, SALE 4 & 5        COMPLETED  MISDEMEANOR   \n",
       "3  462.0      UNAUTHORIZED USE VEHICLE 3        COMPLETED  MISDEMEANOR   \n",
       "4  254.0  MISCHIEF, CRIMINAL 4, OF MOTOR        COMPLETED  MISDEMEANOR   \n",
       "\n",
       "     BORO_NM   Latitude  Longitude               PATROL_BORO RPT_DT_TIME  \\\n",
       "0  MANHATTAN  40.757740 -73.996854     PATROL BORO MAN SOUTH  2012-12-27   \n",
       "1      BRONX  40.812901 -73.920120         PATROL BORO BRONX  2012-10-23   \n",
       "2   BROOKLYN  40.676539 -73.954410   PATROL BORO BKLYN NORTH  2012-07-07   \n",
       "3      BRONX  40.882718 -73.881247         PATROL BORO BRONX  2012-02-17   \n",
       "4     QUEENS  40.743080 -73.954736  PATROL BORO QUEENS NORTH  2012-07-12   \n",
       "\n",
       "   RPT_YEAR  \n",
       "0      2012  \n",
       "1      2012  \n",
       "2      2012  \n",
       "3      2012  \n",
       "4      2012  "
      ]
     },
     "execution_count": 16,
     "metadata": {},
     "output_type": "execute_result"
    }
   ],
   "source": [
    "df.head()"
   ]
  },
  {
   "cell_type": "code",
   "execution_count": 20,
   "metadata": {},
   "outputs": [],
   "source": [
    "df.to_csv('./Output/NYPD_Complaint_Data_2012.csv',index=False)"
   ]
  },
  {
   "cell_type": "code",
   "execution_count": null,
   "metadata": {},
   "outputs": [],
   "source": []
  }
 ],
 "metadata": {
  "kernelspec": {
   "display_name": "Python 3",
   "language": "python",
   "name": "python3"
  },
  "language_info": {
   "codemirror_mode": {
    "name": "ipython",
    "version": 3
   },
   "file_extension": ".py",
   "mimetype": "text/x-python",
   "name": "python",
   "nbconvert_exporter": "python",
   "pygments_lexer": "ipython3",
   "version": "3.7.3"
  }
 },
 "nbformat": 4,
 "nbformat_minor": 2
}
